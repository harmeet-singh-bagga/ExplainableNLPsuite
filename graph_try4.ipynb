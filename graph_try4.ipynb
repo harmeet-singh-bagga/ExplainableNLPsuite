{
 "cells": [
  {
   "cell_type": "code",
   "execution_count": 2,
   "id": "fb4e2fb8-4ef5-4d1c-93ec-f8d221c422de",
   "metadata": {},
   "outputs": [],
   "source": [
    "!pip install -q torch torchvision transformers"
   ]
  },
  {
   "cell_type": "code",
   "execution_count": 3,
   "id": "6bcd06c3-3366-4b09-aad1-c2bc10f266df",
   "metadata": {},
   "outputs": [
    {
     "name": "stdout",
     "output_type": "stream",
     "text": [
      "Torch version: 2.5.1+cu124\n"
     ]
    }
   ],
   "source": [
    "# Import necessary libraries\n",
    "import torch\n",
    "import torchvision.transforms as T\n",
    "from PIL import Image\n",
    "from transformers import CLIPProcessor, CLIPModel\n",
    "\n",
    "# Set device and confirm version\n",
    "device = torch.device(\"cuda\" if torch.cuda.is_available() else \"cpu\")\n",
    "print(f'Torch version: {torch.__version__}')"
   ]
  },
  {
   "cell_type": "code",
   "execution_count": 12,
   "id": "e7f8eaac-ad31-4fc7-b24d-8fb12b1797d2",
   "metadata": {},
   "outputs": [
    {
     "name": "stdout",
     "output_type": "stream",
     "text": [
      "Best match for the image: A line showing a line graph\n",
      "Best match for the image: A line showing a line graph\n"
     ]
    }
   ],
   "source": [
    "# Define transformation for image\n",
    "def build_transform(input_size=224):\n",
    "    transform = T.Compose([\n",
    "        T.Resize((input_size, input_size)),\n",
    "        T.ToTensor(),\n",
    "        T.Normalize(mean=(0.485, 0.456, 0.406), std=(0.229, 0.224, 0.225))\n",
    "    ])\n",
    "    return transform\n",
    "\n",
    "# Load and initialize CLIP model and processor\n",
    "model_id = \"openai/clip-vit-base-patch32\"\n",
    "model = CLIPModel.from_pretrained(model_id).to(device)\n",
    "processor = CLIPProcessor.from_pretrained(model_id)\n",
    "\n",
    "# Dynamic Preprocess function to segment image, similar to InternVL approach\n",
    "def dynamic_preprocess(image, image_size=224, use_thumbnail=False):\n",
    "    orig_width, orig_height = image.size\n",
    "    aspect_ratio = orig_width / orig_height\n",
    "    target_aspect_ratio = (1, 1)\n",
    "    target_width, target_height = image_size * target_aspect_ratio[0], image_size * target_aspect_ratio[1]\n",
    "    \n",
    "    resized_img = image.resize((target_width, target_height))\n",
    "    processed_images = [resized_img]  # Here, add only the resized image\n",
    "    if use_thumbnail:\n",
    "        thumbnail_img = image.resize((image_size, image_size))\n",
    "        processed_images.append(thumbnail_img)\n",
    "    return processed_images\n",
    "\n",
    "# Function to load and preprocess the image\n",
    "def load_image(image_file, input_size=224):\n",
    "    image = Image.open(image_file).convert('RGB')\n",
    "    images = dynamic_preprocess(image, image_size=input_size, use_thumbnail=True)\n",
    "    return images\n",
    "\n",
    "def analyze_image(image_file):\n",
    "    images = load_image(image_file)\n",
    "    prompt_texts = [\n",
    "        \"A graph with trends and patterns\",\n",
    "        \"A chart showing analytical data\",\n",
    "        \"A graph illustrating financial data\",\n",
    "        \"A pie chart with different segments\",\n",
    "        \"A bar chart with several columns\",\n",
    "        \"A line chart indicating changes over time\",\n",
    "\n",
    "        \"A line showing upward and downward movement in a line graph\"\n",
    "    ]\n",
    "    \n",
    "    for img in images:\n",
    "        image_input = processor(images=img, return_tensors=\"pt\").to(device)\n",
    "        outputs = model(**image_input, **text_inputs)\n",
    "\n",
    "        logits_per_image = outputs.logits_per_image  # Similarity score\n",
    "        probs = logits_per_image.softmax(dim=1)  # Probabilities for each text description\n",
    "\n",
    "        # Print out the text description with the highest probability for each processed image\n",
    "        best_text_idx = probs.argmax().item()\n",
    "        print(f\"Best match for the image: {prompt_texts[best_text_idx]}\")\n",
    "\n",
    "# Example of usage\n",
    "analyze_image('/mnt/code/test_l1.png')"
   ]
  },
  {
   "cell_type": "code",
   "execution_count": null,
   "id": "974c9dd9-88ee-4e45-a62d-8b7c02aa5fe4",
   "metadata": {},
   "outputs": [],
   "source": []
  }
 ],
 "metadata": {
  "kernelspec": {
   "display_name": "Python 3 (ipykernel)",
   "language": "python",
   "name": "python3"
  },
  "language_info": {
   "codemirror_mode": {
    "name": "ipython",
    "version": 3
   },
   "file_extension": ".py",
   "mimetype": "text/x-python",
   "name": "python",
   "nbconvert_exporter": "python",
   "pygments_lexer": "ipython3",
   "version": "3.10.14"
  }
 },
 "nbformat": 4,
 "nbformat_minor": 5
}
