{
 "cells": [
  {
   "cell_type": "code",
   "execution_count": 5,
   "id": "b2e79b65-17e7-4613-a2c5-10b254342079",
   "metadata": {},
   "outputs": [],
   "source": [
    "!pip install -q torch torchvision decord transformers einops timm sentencepiece\n",
    "!pip install -q 'accelerate>=0.26.0'"
   ]
  },
  {
   "cell_type": "code",
   "execution_count": 2,
   "id": "8f4ed6b4-d914-40fe-9ece-60879a0c302a",
   "metadata": {},
   "outputs": [],
   "source": [
    "# Function to create the image transformation pipeline\n",
    "def build_transform(input_size):\n",
    "    transform = T.Compose([\n",
    "        T.Lambda(lambda img: img.convert('RGB') if img.mode != 'RGB' else img),\n",
    "        T.Resize((input_size, input_size), interpolation=InterpolationMode.BICUBIC),\n",
    "        T.ToTensor(),\n",
    "        T.Normalize(mean=IMAGENET_MEAN, std=IMAGENET_STD)\n",
    "    ])\n",
    "    return transform\n",
    "\n",
    "# Function to find closest aspect ratio\n",
    "def find_closest_aspect_ratio(aspect_ratio, target_ratios, width, height, image_size):\n",
    "    best_ratio_diff = float('inf')\n",
    "    best_ratio = (1, 1)\n",
    "    area = width * height\n",
    "    for ratio in target_ratios:\n",
    "        target_aspect_ratio = ratio[0] / ratio[1]\n",
    "        ratio_diff = abs(aspect_ratio - target_aspect_ratio)\n",
    "        if ratio_diff < best_ratio_diff:\n",
    "            best_ratio_diff = ratio_diff\n",
    "            best_ratio = ratio\n",
    "        elif ratio_diff == best_ratio_diff:\n",
    "            if area > 0.5 * image_size * image_size * ratio[0] * ratio[1]:\n",
    "                best_ratio = ratio\n",
    "    return best_ratio\n",
    "\n",
    "# Function for dynamic image preprocessing\n",
    "def dynamic_preprocess(image, min_num=1, max_num=6, image_size=448, use_thumbnail=False):\n",
    "    orig_width, orig_height = image.size\n",
    "    aspect_ratio = orig_width / orig_height\n",
    "\n",
    "    # Calculate the target aspect ratio\n",
    "    target_ratios = set((i, j) for n in range(min_num, max_num + 1)\n",
    "                        for i in range(1, n + 1)\n",
    "                        for j in range(1, n + 1)\n",
    "                        if i * j <= max_num and i * j >= min_num)\n",
    "    target_ratios = sorted(target_ratios, key=lambda x: x[0] * x[1])\n",
    "\n",
    "    target_aspect_ratio = find_closest_aspect_ratio(aspect_ratio, target_ratios, orig_width, orig_height, image_size)\n",
    "    target_width, target_height = image_size * target_aspect_ratio[0], image_size * target_aspect_ratio[1]\n",
    "    blocks = target_aspect_ratio[0] * target_aspect_ratio[1]\n",
    "\n",
    "    # Resize the image\n",
    "    resized_img = image.resize((target_width, target_height))\n",
    "    processed_images = []\n",
    "    for i in range(blocks):\n",
    "        box = (\n",
    "            (i % (target_width // image_size)) * image_size,\n",
    "            (i // (target_width // image_size)) * image_size,\n",
    "            ((i % (target_width // image_size)) + 1) * image_size,\n",
    "            ((i // (target_width // image_size)) + 1) * image_size\n",
    "        )\n",
    "        split_img = resized_img.crop(box)\n",
    "        processed_images.append(split_img)\n",
    "\n",
    "    if use_thumbnail and len(processed_images) != 1:\n",
    "        thumbnail_img = image.resize((image_size, image_size))\n",
    "        processed_images.append(thumbnail_img)\n",
    "\n",
    "    return processed_images\n",
    "\n",
    "# Function to load and process the image\n",
    "def load_image(image_file, input_size=448, max_num=6):\n",
    "    image = Image.open(image_file).convert('RGB')\n",
    "    transform = build_transform(input_size=input_size)\n",
    "    images = dynamic_preprocess(image, image_size=input_size, use_thumbnail=True, max_num=max_num)\n",
    "    pixel_values = [transform(image).to(torch.float16) for image in images]  # Use float16 precision\n",
    "    pixel_values = torch.stack(pixel_values).to(device)  # Move tensor to device\n",
    "    return pixel_values"
   ]
  },
  {
   "cell_type": "code",
   "execution_count": 14,
   "id": "e1f9bfc6-af7b-4c3c-9d56-8a6433c4209a",
   "metadata": {},
   "outputs": [],
   "source": [
    "# Function to create the image transformation pipeline\n",
    "def build_transform(input_size):\n",
    "    transform = T.Compose([\n",
    "        T.Lambda(lambda img: img.convert('RGB') if img.mode != 'RGB' else img),\n",
    "        T.Resize((input_size, input_size), interpolation=InterpolationMode.BICUBIC),\n",
    "        T.ToTensor(),\n",
    "        T.Normalize(mean=IMAGENET_MEAN, std=IMAGENET_STD)\n",
    "    ])\n",
    "    return transform\n",
    "\n",
    "# Function to find closest aspect ratio\n",
    "def find_closest_aspect_ratio(aspect_ratio, target_ratios, width, height, image_size):\n",
    "    best_ratio_diff = float('inf')\n",
    "    best_ratio = (1, 1)\n",
    "    area = width * height\n",
    "    for ratio in target_ratios:\n",
    "        target_aspect_ratio = ratio[0] / ratio[1]\n",
    "        ratio_diff = abs(aspect_ratio - target_aspect_ratio)\n",
    "        if ratio_diff < best_ratio_diff:\n",
    "            best_ratio_diff = ratio_diff\n",
    "            best_ratio = ratio\n",
    "        elif ratio_diff == best_ratio_diff:\n",
    "            if area > 0.5 * image_size * image_size * ratio[0] * ratio[1]:\n",
    "                best_ratio = ratio\n",
    "    return best_ratio\n",
    "\n",
    "# Function for dynamic image preprocessing\n",
    "def dynamic_preprocess(image, min_num=1, max_num=6, image_size=448, use_thumbnail=False):\n",
    "    orig_width, orig_height = image.size\n",
    "    aspect_ratio = orig_width / orig_height\n",
    "\n",
    "    # Calculate the target aspect ratio\n",
    "    target_ratios = set((i, j) for n in range(min_num, max_num + 1)\n",
    "                        for i in range(1, n + 1)\n",
    "                        for j in range(1, n + 1)\n",
    "                        if i * j <= max_num and i * j >= min_num)\n",
    "    target_ratios = sorted(target_ratios, key=lambda x: x[0] * x[1])\n",
    "\n",
    "    target_aspect_ratio = find_closest_aspect_ratio(aspect_ratio, target_ratios, orig_width, orig_height, image_size)\n",
    "    target_width, target_height = image_size * target_aspect_ratio[0], image_size * target_aspect_ratio[1]\n",
    "    blocks = target_aspect_ratio[0] * target_aspect_ratio[1]\n",
    "\n",
    "    # Resize the image\n",
    "    resized_img = image.resize((target_width, target_height))\n",
    "    processed_images = []\n",
    "    for i in range(blocks):\n",
    "        box = (\n",
    "            (i % (target_width // image_size)) * image_size,\n",
    "            (i // (target_width // image_size)) * image_size,\n",
    "            ((i % (target_width // image_size)) + 1) * image_size,\n",
    "            ((i // (target_width // image_size)) + 1) * image_size\n",
    "        )\n",
    "        split_img = resized_img.crop(box)\n",
    "        processed_images.append(split_img)\n",
    "\n",
    "    if use_thumbnail and len(processed_images) != 1:\n",
    "        thumbnail_img = image.resize((image_size, image_size))\n",
    "        processed_images.append(thumbnail_img)\n",
    "    \n",
    "    return processed_images\n",
    "\n",
    "# Function to load and process the image\n",
    "def load_image(image_file, input_size=448, max_num=6):\n",
    "    image = Image.open(image_file).convert('RGB')\n",
    "    transform = build_transform(input_size=input_size)\n",
    "    images = dynamic_preprocess(image, image_size=input_size, use_thumbnail=True, max_num=max_num)\n",
    "    pixel_values = [transform(image) for image in images]\n",
    "    pixel_values = torch.stack(pixel_values)\n",
    "    return pixel_values\n"
   ]
  },
  {
   "cell_type": "code",
   "execution_count": 4,
   "id": "5c89335b-60a4-48b9-a918-3662b1c762e9",
   "metadata": {},
   "outputs": [
    {
     "name": "stdout",
     "output_type": "stream",
     "text": [
      "Warning: Flash attention is not available, using eager attention instead.\n"
     ]
    },
    {
     "name": "stderr",
     "output_type": "stream",
     "text": [
      "/opt/conda/lib/python3.10/site-packages/accelerate/utils/modeling.py:1390: UserWarning: Current model requires 402656256 bytes of buffer for offloaded layers, which seems does not fit any GPU's remaining memory. If you are experiencing a OOM later, please consider using offload_buffers=True.\n",
      "  warnings.warn(\n"
     ]
    },
    {
     "data": {
      "application/vnd.jupyter.widget-view+json": {
       "model_id": "7818ef6c4c3e4fbdb6df990f2e01804c",
       "version_major": 2,
       "version_minor": 0
      },
      "text/plain": [
       "Loading checkpoint shards:   0%|          | 0/4 [00:00<?, ?it/s]"
      ]
     },
     "metadata": {},
     "output_type": "display_data"
    },
    {
     "name": "stderr",
     "output_type": "stream",
     "text": [
      "Some parameters are on the meta device because they were offloaded to the cpu.\n"
     ]
    }
   ],
   "source": [
    "# Load the model and tokenizer with float16 precision and offloading\n",
    "path = 'OpenGVLab/InternVL2-8B'\n",
    "model = AutoModel.from_pretrained(\n",
    "    path,\n",
    "    torch_dtype=torch.float16,  # Ensure FP16 precision for consistent processing\n",
    "    low_cpu_mem_usage=True,\n",
    "    trust_remote_code=True,\n",
    "    device_map=\"auto\",           # Offloads as needed\n",
    "    offload_buffers=True         # Enables offloading of non-critical buffers\n",
    ").eval()\n",
    "\n",
    "tokenizer = AutoTokenizer.from_pretrained(path, trust_remote_code=True)\n",
    "\n",
    "# Set generation configuration\n",
    "generation_config = dict(\n",
    "    num_beams=1,\n",
    "    max_new_tokens=1024,\n",
    "    do_sample=False,\n",
    ")\n",
    "\n",
    "# Load and preprocess an example image, moving pixel values to GPU\n",
    "device = torch.device('cuda' if torch.cuda.is_available() else 'cpu')"
   ]
  },
  {
   "cell_type": "code",
   "execution_count": 6,
   "id": "6902b61c-45d1-47cd-911c-1bd3bc3b1cf9",
   "metadata": {},
   "outputs": [
    {
     "name": "stdout",
     "output_type": "stream",
     "text": [
      "User: Analyze this graph\n",
      "Assistant: This graph shows the temperature over a period of 31 days. Here's a detailed analysis:\n",
      "\n",
      "1. **Initial Phase (Days 1-5):**\n",
      "   - The temperature starts at around 7°C and shows a gradual decline.\n",
      "   - By day 5, the temperature drops to approximately 2°C.\n",
      "\n",
      "2. **Rapid Drop (Days 5-7):**\n",
      "   - There is a sharp decline in temperature, dropping from around 2°C to a low of about 1°C by day 7.\n",
      "\n",
      "3. **Recovery Phase (Days 7-10):**\n",
      "   - The temperature begins to recover, rising back up to around 6°C by day 10.\n",
      "\n",
      "4. **Fluctuating Phase (Days 10-20):**\n",
      "   - The temperature fluctuates significantly during this period. It rises to a peak of about 11°C around day 11, then drops back down to around 6°C by day 14.\n",
      "   - There are several peaks and troughs, with the temperature oscillating between 6°C and 11°C.\n",
      "\n",
      "5. **Stable Phase (Days 20-25):**\n",
      "   - The temperature stabilizes around 6°C to 8°C during this period, with minor fluctuations.\n",
      "\n",
      "6. **Final Increase (Days 25-31):**\n",
      "   - There is a noticeable increase in temperature, rising steadily from around 6°C to a peak of approximately 12°C by day 31.\n",
      "\n",
      "Overall, the graph depicts a fluctuating temperature pattern with a significant drop early on, followed by recovery and stabilization, and a final increase towards the end of the 31-day period.\n"
     ]
    }
   ],
   "source": [
    "# Ensure pixel values use float16 precision to avoid type mismatch errors\n",
    "pixel_values = load_image('/mnt/code/test_l1.png', max_num=6)\n",
    "# Run the model inference\n",
    "question = 'Analyze this graph'\n",
    "response, history = model.chat(tokenizer, pixel_values, question, generation_config, history=None, return_history=True)\n",
    "\n",
    "print(f'User: {question}')\n",
    "print(f'Assistant: {response}')"
   ]
  },
  {
   "cell_type": "code",
   "execution_count": 7,
   "id": "885f0923-35d6-40e2-b4a9-ef58fd99929e",
   "metadata": {},
   "outputs": [
    {
     "name": "stdout",
     "output_type": "stream",
     "text": [
      "User: Analyze this graph\n",
      "Assistant: This bar graph is titled Tslesie cna Aeihndnaes. The y-axis measures % hei 50 setter dniae NEASYS while the x-axis measures Site, Ischaemia, Neuropathy, Bacterial infection, Area, and Depth. The highest value is 84.6% for Neuropathy. The lowest value is 11.8% for Depth.\n"
     ]
    }
   ],
   "source": [
    "# Load and preprocess another example image\n",
    "pixel_values = load_image('/mnt/code/test_b2.png', max_num=6)\n",
    "# Run the model inference\n",
    "question = 'Analyze this graph'\n",
    "response, history = model.chat(tokenizer, pixel_values, question, generation_config, history=None, return_history=True)\n",
    "\n",
    "print(f'User: {question}')\n",
    "print(f'Assistant: {response}')"
   ]
  },
  {
   "cell_type": "code",
   "execution_count": 8,
   "id": "4fe7c8db-9e9b-4c99-bff4-9c422a045ea3",
   "metadata": {},
   "outputs": [
    {
     "name": "stdout",
     "output_type": "stream",
     "text": [
      "User: Analyze this graph\n",
      "Assistant: The pie chart titled \"Quina és la Taxa d'ocupació?\" (What is the occupancy rate?) shows the distribution of occupancy rates among three categories: \"Ocupat\" (occupied), \"Aturat\" (vacant), and \"Inactiu\" (inactive). Here's a detailed analysis:\n",
      "\n",
      "1. **Ocupat (Occupied)**:\n",
      "   - The largest segment of the pie chart, representing 76.6% of the total.\n",
      "   - This indicates that the majority of the units or spaces are occupied.\n",
      "\n",
      "2. **Aturat (Vacant)**:\n",
      "   - The second-largest segment, representing 15.9% of the total.\n",
      "   - This suggests that a significant portion of the units or spaces are vacant.\n",
      "\n",
      "3. **Inactiu (Inactive)**:\n",
      "   - The smallest segment, representing 6.5% of the total.\n",
      "   - This indicates that a smaller portion of the units or spaces are inactive.\n",
      "\n",
      "### Key Insights:\n",
      "- The occupancy rate is predominantly high, with 76.6% of the units or spaces being occupied.\n",
      "- A notable portion, 15.9%, is vacant, which could be due to various reasons such as maintenance, renovation, or simply unoccupied units.\n",
      "- The inactive segment, at 6.5%, is relatively small, suggesting that most units or spaces are either occupied or vacant.\n",
      "\n",
      "### Conclusion:\n",
      "The chart effectively communicates that the majority of the units or spaces are occupied, with a significant number of units being vacant. This information can be useful for understanding resource allocation, planning, and potential areas for improvement or further investigation.\n"
     ]
    }
   ],
   "source": [
    "# Load and preprocess another example image\n",
    "pixel_values = load_image('/mnt/code/test_p3.png', max_num=6)\n",
    "# Run the model inference\n",
    "question = 'Analyze this graph'\n",
    "response, history = model.chat(tokenizer, pixel_values, question, generation_config, history=None, return_history=True)\n",
    "\n",
    "print(f'User: {question}')\n",
    "print(f'Assistant: {response}')"
   ]
  }
 ],
 "metadata": {
  "kernelspec": {
   "display_name": "Python 3 (ipykernel)",
   "language": "python",
   "name": "python3"
  },
  "language_info": {
   "codemirror_mode": {
    "name": "ipython",
    "version": 3
   },
   "file_extension": ".py",
   "mimetype": "text/x-python",
   "name": "python",
   "nbconvert_exporter": "python",
   "pygments_lexer": "ipython3",
   "version": "3.10.14"
  }
 },
 "nbformat": 4,
 "nbformat_minor": 5
}
