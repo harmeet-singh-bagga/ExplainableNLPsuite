{
 "cells": [
  {
   "cell_type": "code",
   "execution_count": 2,
   "id": "2afb4a17-552c-4fd6-a106-396e329a46c2",
   "metadata": {},
   "outputs": [],
   "source": [
    "!pip install -q torch torchvision transformers"
   ]
  },
  {
   "cell_type": "code",
   "execution_count": 11,
   "id": "a0b293bf-bb54-4717-9223-df461aca9c90",
   "metadata": {},
   "outputs": [
    {
     "name": "stderr",
     "output_type": "stream",
     "text": [
      "huggingface/tokenizers: The current process just got forked, after parallelism has already been used. Disabling parallelism to avoid deadlocks...\n",
      "To disable this warning, you can either:\n",
      "\t- Avoid using `tokenizers` before the fork if possible\n",
      "\t- Explicitly set the environment variable TOKENIZERS_PARALLELISM=(true | false)\n"
     ]
    }
   ],
   "source": [
    "# Install necessary libraries\n",
    "!pip install -q torch torchvision transformers\n",
    "\n",
    "# Import necessary libraries\n",
    "import torch\n",
    "import torchvision.transforms as T\n",
    "from PIL import Image\n",
    "from transformers import ViTFeatureExtractor, ViTForImageClassification, AutoTokenizer, AutoModelForSeq2SeqLM\n",
    "\n",
    "# Set device\n",
    "device = torch.device(\"cuda\" if torch.cuda.is_available() else \"cpu\")"
   ]
  },
  {
   "cell_type": "code",
   "execution_count": 16,
   "id": "a4fd0533-108c-47d0-85c4-6662643dc245",
   "metadata": {},
   "outputs": [
    {
     "name": "stderr",
     "output_type": "stream",
     "text": [
      "Some weights of ViTModel were not initialized from the model checkpoint at google/vit-base-patch16-224 and are newly initialized: ['vit.pooler.dense.bias', 'vit.pooler.dense.weight']\n",
      "You should probably TRAIN this model on a down-stream task to be able to use it for predictions and inference.\n"
     ]
    }
   ],
   "source": [
    "# Initialize ViT model and feature extractor\n",
    "vit_model = ViTModel.from_pretrained(\"google/vit-base-patch16-224\").to(device)\n",
    "feature_extractor = ViTFeatureExtractor.from_pretrained(\"google/vit-base-patch16-224\")\n",
    "\n",
    "# Load language generation model and tokenizer (e.g., T5 for text generation)\n",
    "text_model = AutoModelForSeq2SeqLM.from_pretrained(\"t5-small\").to(device)\n",
    "tokenizer = AutoTokenizer.from_pretrained(\"t5-small\")"
   ]
  },
  {
   "cell_type": "code",
   "execution_count": 17,
   "id": "c8a92363-001a-4483-824e-f9397199f29e",
   "metadata": {},
   "outputs": [],
   "source": [
    "# Function to preprocess and transform the image for ViT\n",
    "def preprocess_image(image_path):\n",
    "    image = Image.open(image_path).convert(\"RGB\")\n",
    "    inputs = feature_extractor(images=image, return_tensors=\"pt\").to(device)\n",
    "    return inputs\n",
    "\n",
    "# Function to generate insights using embeddings from ViT\n",
    "def generate_insights(image_path, question=\"Analyze this image\"):\n",
    "    # Preprocess image\n",
    "    inputs = preprocess_image(image_path)\n",
    "    \n",
    "    # Extract embeddings using ViT\n",
    "    with torch.no_grad():\n",
    "        outputs = vit_model(**inputs)\n",
    "    # Use pooled output as image representation for language model\n",
    "    image_embedding = outputs.pooler_output\n",
    "\n",
    "    # Generate insights by formatting question and image embeddings\n",
    "    prompt = f\"{question}. Image Embedding: {image_embedding.cpu().numpy().tolist()}\"\n",
    "    input_ids = tokenizer(prompt, return_tensors=\"pt\").input_ids.to(device)\n",
    "\n",
    "    # Generate response with text model\n",
    "    with torch.no_grad():\n",
    "        output = text_model.generate(input_ids, max_length=100)\n",
    "    \n",
    "    response = tokenizer.decode(output[0], skip_special_tokens=True)\n",
    "    return response"
   ]
  },
  {
   "cell_type": "code",
   "execution_count": 18,
   "id": "9f480dc6-0770-4e2a-89af-3b0fc1d822f2",
   "metadata": {},
   "outputs": [
    {
     "name": "stderr",
     "output_type": "stream",
     "text": [
      "Token indices sequence length is longer than the specified maximum sequence length for this model (7887 > 512). Running this sequence through the model will result in indexing errors\n"
     ]
    },
    {
     "name": "stdout",
     "output_type": "stream",
     "text": [
      "User: Analyze this graph\n",
      "Assistant: -0.3272727878787, -0.327272727, -0.327272727, -0.327272727, -0.327272727, -0.327272727, -0.327272727, -0.32727272727, -0.32727272727, -0.32727272727, -0.327272727, -0.32727\n"
     ]
    }
   ],
   "source": [
    "# Example usage\n",
    "image_path = \"/mnt/code/test_l1.png\"\n",
    "question = \"Analyze this graph\"\n",
    "response = generate_insights(image_path, question)\n",
    "\n",
    "print(f\"User: {question}\")\n",
    "print(f\"Assistant: {response}\")"
   ]
  },
  {
   "cell_type": "code",
   "execution_count": null,
   "id": "89b53977-2bb0-4a17-81be-fcc784f37e71",
   "metadata": {},
   "outputs": [],
   "source": []
  }
 ],
 "metadata": {
  "kernelspec": {
   "display_name": "Python 3 (ipykernel)",
   "language": "python",
   "name": "python3"
  },
  "language_info": {
   "codemirror_mode": {
    "name": "ipython",
    "version": 3
   },
   "file_extension": ".py",
   "mimetype": "text/x-python",
   "name": "python",
   "nbconvert_exporter": "python",
   "pygments_lexer": "ipython3",
   "version": "3.10.14"
  }
 },
 "nbformat": 4,
 "nbformat_minor": 5
}
